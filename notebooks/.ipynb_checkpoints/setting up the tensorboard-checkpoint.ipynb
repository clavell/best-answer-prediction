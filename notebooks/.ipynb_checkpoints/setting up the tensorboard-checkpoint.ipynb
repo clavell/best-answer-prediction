{
 "cells": [
  {
   "cell_type": "markdown",
   "id": "7229a8a1",
   "metadata": {},
   "source": [
    "After the dismal performance of unnormalized features we will normalize the features based on their thread. This is mostly a copy of the previous notebook. The change comes in the normalization of the features."
   ]
  },
  {
   "cell_type": "markdown",
   "id": "c4ac620f",
   "metadata": {},
   "source": [
    "To get all of this to run correctly we need to be in the correct python environment. Using Anaconda Here are the steps:\n",
    "- conda create -n tf tensorflow\n",
    "- conda activate tf\n",
    "- conda install pandas\n",
    "- conda install matplotlib\n"
   ]
  },
  {
   "cell_type": "code",
   "execution_count": 1,
   "id": "49013104",
   "metadata": {},
   "outputs": [],
   "source": [
    "import pandas as pd\n",
    "import numpy as np\n",
    "import xml.etree.ElementTree as et\n",
    "import matplotlib.pyplot as plt\n",
    "%matplotlib inline"
   ]
  },
  {
   "cell_type": "code",
   "execution_count": 2,
   "id": "aa12d64d",
   "metadata": {},
   "outputs": [
    {
     "data": {
      "text/html": [
       "<div>\n",
       "<style scoped>\n",
       "    .dataframe tbody tr th:only-of-type {\n",
       "        vertical-align: middle;\n",
       "    }\n",
       "\n",
       "    .dataframe tbody tr th {\n",
       "        vertical-align: top;\n",
       "    }\n",
       "\n",
       "    .dataframe thead th {\n",
       "        text-align: right;\n",
       "    }\n",
       "</style>\n",
       "<table border=\"1\" class=\"dataframe\">\n",
       "  <thead>\n",
       "    <tr style=\"text-align: right;\">\n",
       "      <th></th>\n",
       "      <th>AcceptedAnswerId</th>\n",
       "      <th>AnswerCount</th>\n",
       "      <th>CommentCount</th>\n",
       "      <th>FavoriteCount</th>\n",
       "      <th>Id</th>\n",
       "      <th>LastEditorUserId</th>\n",
       "      <th>OwnerUserId</th>\n",
       "      <th>PostTypeId</th>\n",
       "      <th>Score</th>\n",
       "      <th>ViewCount</th>\n",
       "      <th>ParentId</th>\n",
       "    </tr>\n",
       "  </thead>\n",
       "  <tbody>\n",
       "    <tr>\n",
       "      <th>count</th>\n",
       "      <td>22593.000000</td>\n",
       "      <td>64503.000000</td>\n",
       "      <td>173341.000000</td>\n",
       "      <td>7136.000000</td>\n",
       "      <td>173341.000000</td>\n",
       "      <td>60843.000000</td>\n",
       "      <td>171425.000000</td>\n",
       "      <td>173341.000000</td>\n",
       "      <td>173341.000000</td>\n",
       "      <td>64503.000000</td>\n",
       "      <td>108215.000000</td>\n",
       "    </tr>\n",
       "    <tr>\n",
       "      <th>mean</th>\n",
       "      <td>108373.832957</td>\n",
       "      <td>1.677674</td>\n",
       "      <td>1.950046</td>\n",
       "      <td>1.478840</td>\n",
       "      <td>118908.775829</td>\n",
       "      <td>34969.900580</td>\n",
       "      <td>48320.166283</td>\n",
       "      <td>1.637080</td>\n",
       "      <td>2.130540</td>\n",
       "      <td>4921.380509</td>\n",
       "      <td>110062.501077</td>\n",
       "    </tr>\n",
       "    <tr>\n",
       "      <th>std</th>\n",
       "      <td>70620.506794</td>\n",
       "      <td>1.453162</td>\n",
       "      <td>2.619226</td>\n",
       "      <td>2.210341</td>\n",
       "      <td>67767.548143</td>\n",
       "      <td>35088.478365</td>\n",
       "      <td>38686.024289</td>\n",
       "      <td>0.514955</td>\n",
       "      <td>4.200341</td>\n",
       "      <td>20640.046517</td>\n",
       "      <td>69797.636240</td>\n",
       "    </tr>\n",
       "    <tr>\n",
       "      <th>min</th>\n",
       "      <td>9.000000</td>\n",
       "      <td>0.000000</td>\n",
       "      <td>0.000000</td>\n",
       "      <td>0.000000</td>\n",
       "      <td>1.000000</td>\n",
       "      <td>-1.000000</td>\n",
       "      <td>-1.000000</td>\n",
       "      <td>1.000000</td>\n",
       "      <td>-21.000000</td>\n",
       "      <td>4.000000</td>\n",
       "      <td>1.000000</td>\n",
       "    </tr>\n",
       "    <tr>\n",
       "      <th>25%</th>\n",
       "      <td>41791.000000</td>\n",
       "      <td>1.000000</td>\n",
       "      <td>0.000000</td>\n",
       "      <td>1.000000</td>\n",
       "      <td>62355.000000</td>\n",
       "      <td>2196.000000</td>\n",
       "      <td>14437.000000</td>\n",
       "      <td>1.000000</td>\n",
       "      <td>0.000000</td>\n",
       "      <td>100.000000</td>\n",
       "      <td>47171.000000</td>\n",
       "    </tr>\n",
       "    <tr>\n",
       "      <th>50%</th>\n",
       "      <td>106801.000000</td>\n",
       "      <td>1.000000</td>\n",
       "      <td>1.000000</td>\n",
       "      <td>1.000000</td>\n",
       "      <td>121874.000000</td>\n",
       "      <td>27773.000000</td>\n",
       "      <td>44366.000000</td>\n",
       "      <td>2.000000</td>\n",
       "      <td>1.000000</td>\n",
       "      <td>457.000000</td>\n",
       "      <td>108629.000000</td>\n",
       "    </tr>\n",
       "    <tr>\n",
       "      <th>75%</th>\n",
       "      <td>170870.000000</td>\n",
       "      <td>2.000000</td>\n",
       "      <td>3.000000</td>\n",
       "      <td>1.000000</td>\n",
       "      <td>177914.000000</td>\n",
       "      <td>55930.000000</td>\n",
       "      <td>74694.000000</td>\n",
       "      <td>2.000000</td>\n",
       "      <td>2.000000</td>\n",
       "      <td>2333.000000</td>\n",
       "      <td>171230.000000</td>\n",
       "    </tr>\n",
       "    <tr>\n",
       "      <th>max</th>\n",
       "      <td>234205.000000</td>\n",
       "      <td>77.000000</td>\n",
       "      <td>48.000000</td>\n",
       "      <td>74.000000</td>\n",
       "      <td>234210.000000</td>\n",
       "      <td>141224.000000</td>\n",
       "      <td>141255.000000</td>\n",
       "      <td>7.000000</td>\n",
       "      <td>300.000000</td>\n",
       "      <td>877087.000000</td>\n",
       "      <td>234198.000000</td>\n",
       "    </tr>\n",
       "  </tbody>\n",
       "</table>\n",
       "</div>"
      ],
      "text/plain": [
       "       AcceptedAnswerId   AnswerCount   CommentCount  FavoriteCount  \\\n",
       "count      22593.000000  64503.000000  173341.000000    7136.000000   \n",
       "mean      108373.832957      1.677674       1.950046       1.478840   \n",
       "std        70620.506794      1.453162       2.619226       2.210341   \n",
       "min            9.000000      0.000000       0.000000       0.000000   \n",
       "25%        41791.000000      1.000000       0.000000       1.000000   \n",
       "50%       106801.000000      1.000000       1.000000       1.000000   \n",
       "75%       170870.000000      2.000000       3.000000       1.000000   \n",
       "max       234205.000000     77.000000      48.000000      74.000000   \n",
       "\n",
       "                  Id  LastEditorUserId    OwnerUserId     PostTypeId  \\\n",
       "count  173341.000000      60843.000000  171425.000000  173341.000000   \n",
       "mean   118908.775829      34969.900580   48320.166283       1.637080   \n",
       "std     67767.548143      35088.478365   38686.024289       0.514955   \n",
       "min         1.000000         -1.000000      -1.000000       1.000000   \n",
       "25%     62355.000000       2196.000000   14437.000000       1.000000   \n",
       "50%    121874.000000      27773.000000   44366.000000       2.000000   \n",
       "75%    177914.000000      55930.000000   74694.000000       2.000000   \n",
       "max    234210.000000     141224.000000  141255.000000       7.000000   \n",
       "\n",
       "               Score      ViewCount       ParentId  \n",
       "count  173341.000000   64503.000000  108215.000000  \n",
       "mean        2.130540    4921.380509  110062.501077  \n",
       "std         4.200341   20640.046517   69797.636240  \n",
       "min       -21.000000       4.000000       1.000000  \n",
       "25%         0.000000     100.000000   47171.000000  \n",
       "50%         1.000000     457.000000  108629.000000  \n",
       "75%         2.000000    2333.000000  171230.000000  \n",
       "max       300.000000  877087.000000  234198.000000  "
      ]
     },
     "execution_count": 2,
     "metadata": {},
     "output_type": "execute_result"
    }
   ],
   "source": [
    "xml_file = 'stackexchange_data/diy.stackexchange.com/Posts_original.xml'\n",
    "originaldf = pd.read_xml(xml_file,attrs_only=True,parser='etree')\n",
    "originaldf.describe()"
   ]
  },
  {
   "cell_type": "code",
   "execution_count": 3,
   "id": "bfed7253",
   "metadata": {},
   "outputs": [
    {
     "data": {
      "text/html": [
       "<div>\n",
       "<style scoped>\n",
       "    .dataframe tbody tr th:only-of-type {\n",
       "        vertical-align: middle;\n",
       "    }\n",
       "\n",
       "    .dataframe tbody tr th {\n",
       "        vertical-align: top;\n",
       "    }\n",
       "\n",
       "    .dataframe thead th {\n",
       "        text-align: right;\n",
       "    }\n",
       "</style>\n",
       "<table border=\"1\" class=\"dataframe\">\n",
       "  <thead>\n",
       "    <tr style=\"text-align: right;\">\n",
       "      <th></th>\n",
       "      <th>Body</th>\n",
       "      <th>ContentLicense</th>\n",
       "      <th>CreationDate</th>\n",
       "      <th>LastActivityDate</th>\n",
       "      <th>LastEditDate</th>\n",
       "      <th>Tags</th>\n",
       "      <th>Title</th>\n",
       "      <th>OwnerDisplayName</th>\n",
       "      <th>CommunityOwnedDate</th>\n",
       "      <th>LastEditorDisplayName</th>\n",
       "      <th>ClosedDate</th>\n",
       "    </tr>\n",
       "  </thead>\n",
       "  <tbody>\n",
       "    <tr>\n",
       "      <th>count</th>\n",
       "      <td>173169</td>\n",
       "      <td>173341</td>\n",
       "      <td>173341</td>\n",
       "      <td>173341</td>\n",
       "      <td>61226</td>\n",
       "      <td>64503</td>\n",
       "      <td>64503</td>\n",
       "      <td>2671</td>\n",
       "      <td>469</td>\n",
       "      <td>395</td>\n",
       "      <td>2440</td>\n",
       "    </tr>\n",
       "    <tr>\n",
       "      <th>unique</th>\n",
       "      <td>173154</td>\n",
       "      <td>3</td>\n",
       "      <td>172934</td>\n",
       "      <td>137337</td>\n",
       "      <td>57713</td>\n",
       "      <td>28755</td>\n",
       "      <td>64493</td>\n",
       "      <td>1260</td>\n",
       "      <td>406</td>\n",
       "      <td>105</td>\n",
       "      <td>2440</td>\n",
       "    </tr>\n",
       "    <tr>\n",
       "      <th>top</th>\n",
       "      <td>There's no need to use this tag.  When asking ...</td>\n",
       "      <td>CC BY-SA 3.0</td>\n",
       "      <td>2011-10-16T21:46:14.993</td>\n",
       "      <td>2010-07-21T19:33:18.130</td>\n",
       "      <td>2020-06-16T10:07:27.010</td>\n",
       "      <td>&lt;electrical&gt;</td>\n",
       "      <td>Does this look like asbestos?</td>\n",
       "      <td>user558</td>\n",
       "      <td>2011-10-19T10:49:56.827</td>\n",
       "      <td>user39367</td>\n",
       "      <td>2012-09-11T19:17:04.623</td>\n",
       "    </tr>\n",
       "    <tr>\n",
       "      <th>freq</th>\n",
       "      <td>3</td>\n",
       "      <td>93808</td>\n",
       "      <td>2</td>\n",
       "      <td>2</td>\n",
       "      <td>1941</td>\n",
       "      <td>2761</td>\n",
       "      <td>2</td>\n",
       "      <td>238</td>\n",
       "      <td>9</td>\n",
       "      <td>68</td>\n",
       "      <td>1</td>\n",
       "    </tr>\n",
       "  </tbody>\n",
       "</table>\n",
       "</div>"
      ],
      "text/plain": [
       "                                                     Body ContentLicense  \\\n",
       "count                                              173169         173341   \n",
       "unique                                             173154              3   \n",
       "top     There's no need to use this tag.  When asking ...   CC BY-SA 3.0   \n",
       "freq                                                    3          93808   \n",
       "\n",
       "                   CreationDate         LastActivityDate  \\\n",
       "count                    173341                   173341   \n",
       "unique                   172934                   137337   \n",
       "top     2011-10-16T21:46:14.993  2010-07-21T19:33:18.130   \n",
       "freq                          2                        2   \n",
       "\n",
       "                   LastEditDate          Tags                          Title  \\\n",
       "count                     61226         64503                          64503   \n",
       "unique                    57713         28755                          64493   \n",
       "top     2020-06-16T10:07:27.010  <electrical>  Does this look like asbestos?   \n",
       "freq                       1941          2761                              2   \n",
       "\n",
       "       OwnerDisplayName       CommunityOwnedDate LastEditorDisplayName  \\\n",
       "count              2671                      469                   395   \n",
       "unique             1260                      406                   105   \n",
       "top             user558  2011-10-19T10:49:56.827             user39367   \n",
       "freq                238                        9                    68   \n",
       "\n",
       "                     ClosedDate  \n",
       "count                      2440  \n",
       "unique                     2440  \n",
       "top     2012-09-11T19:17:04.623  \n",
       "freq                          1  "
      ]
     },
     "execution_count": 3,
     "metadata": {},
     "output_type": "execute_result"
    }
   ],
   "source": [
    "originaldf.describe(exclude=[np.number])"
   ]
  },
  {
   "cell_type": "code",
   "execution_count": 4,
   "id": "07e263f5",
   "metadata": {},
   "outputs": [
    {
     "data": {
      "text/plain": [
       "AcceptedAnswerId         150748\n",
       "AnswerCount              108838\n",
       "Body                        172\n",
       "CommentCount                  0\n",
       "ContentLicense                0\n",
       "CreationDate                  0\n",
       "FavoriteCount            166205\n",
       "Id                            0\n",
       "LastActivityDate              0\n",
       "LastEditDate             112115\n",
       "LastEditorUserId         112498\n",
       "OwnerUserId                1916\n",
       "PostTypeId                    0\n",
       "Score                         0\n",
       "Tags                     108838\n",
       "Title                    108838\n",
       "ViewCount                108838\n",
       "ParentId                  65126\n",
       "OwnerDisplayName         170670\n",
       "CommunityOwnedDate       172872\n",
       "LastEditorDisplayName    172946\n",
       "ClosedDate               170901\n",
       "dtype: int64"
      ]
     },
     "execution_count": 4,
     "metadata": {},
     "output_type": "execute_result"
    }
   ],
   "source": [
    "originaldf.isna().sum()"
   ]
  },
  {
   "cell_type": "markdown",
   "id": "6b0e7b4a",
   "metadata": {},
   "source": [
    "according to survey characteristics of good answers are :\n",
    "- More varied vocabulary\n",
    "- Answers referenced by other answers\n",
    "- More comments from other users\n",
    "- Earlier posted answers are likely to be better\n",
    "- Answer most different from the rest\n",
    "- Answer length (best)\n",
    "- Forum specific\n",
    " easiest to look at are the answer length, time of posting and number of comments from other users.\n",
    "goal of this research is to find best answer. More interesting features are answers that are different from the rest. How to calculate answer similarity remains to be seen..\n",
    "###### start with comment count, answer length and time of posting? easy low hanging fruit"
   ]
  },
  {
   "cell_type": "code",
   "execution_count": 5,
   "id": "b937b35f",
   "metadata": {
    "scrolled": false
   },
   "outputs": [
    {
     "data": {
      "text/plain": [
       "(108215, 22)"
      ]
     },
     "execution_count": 5,
     "metadata": {},
     "output_type": "execute_result"
    }
   ],
   "source": [
    "#look at answers\n",
    "originaldf.loc[originaldf['PostTypeId'] == 2].shape"
   ]
  },
  {
   "cell_type": "code",
   "execution_count": 6,
   "id": "821fb80f",
   "metadata": {},
   "outputs": [
    {
     "data": {
      "text/plain": [
       "(64503, 22)"
      ]
     },
     "execution_count": 6,
     "metadata": {},
     "output_type": "execute_result"
    }
   ],
   "source": [
    "#look at number of questions\n",
    "originaldf.loc[originaldf[\"PostTypeId\"] == 1].shape"
   ]
  },
  {
   "cell_type": "code",
   "execution_count": 7,
   "id": "a98f31fb",
   "metadata": {},
   "outputs": [
    {
     "data": {
      "text/plain": [
       "AcceptedAnswerId         41910\n",
       "AnswerCount                  0\n",
       "Body                         0\n",
       "CommentCount                 0\n",
       "ContentLicense               0\n",
       "CreationDate                 0\n",
       "FavoriteCount            57367\n",
       "Id                           0\n",
       "LastActivityDate             0\n",
       "LastEditDate             31375\n",
       "LastEditorUserId         31502\n",
       "OwnerUserId                656\n",
       "PostTypeId                   0\n",
       "Score                        0\n",
       "Tags                         0\n",
       "Title                        0\n",
       "ViewCount                    0\n",
       "ParentId                 64503\n",
       "OwnerDisplayName         63386\n",
       "CommunityOwnedDate       64475\n",
       "LastEditorDisplayName    64372\n",
       "ClosedDate               62063\n",
       "dtype: int64"
      ]
     },
     "execution_count": 7,
     "metadata": {},
     "output_type": "execute_result"
    }
   ],
   "source": [
    "#look at missing values\n",
    "originaldf.loc[originaldf[\"PostTypeId\"] == 1].isna().sum()"
   ]
  },
  {
   "cell_type": "code",
   "execution_count": 8,
   "id": "db8f66c7",
   "metadata": {},
   "outputs": [
    {
     "data": {
      "text/plain": [
       "AcceptedAnswerId         108215\n",
       "AnswerCount              108215\n",
       "Body                          0\n",
       "CommentCount                  0\n",
       "ContentLicense                0\n",
       "CreationDate                  0\n",
       "FavoriteCount            108215\n",
       "Id                            0\n",
       "LastActivityDate              0\n",
       "LastEditDate              80740\n",
       "LastEditorUserId          80996\n",
       "OwnerUserId                1260\n",
       "PostTypeId                    0\n",
       "Score                         0\n",
       "Tags                     108215\n",
       "Title                    108215\n",
       "ViewCount                108215\n",
       "ParentId                      0\n",
       "OwnerDisplayName         106661\n",
       "CommunityOwnedDate       107790\n",
       "LastEditorDisplayName    107951\n",
       "ClosedDate               108215\n",
       "dtype: int64"
      ]
     },
     "execution_count": 8,
     "metadata": {},
     "output_type": "execute_result"
    }
   ],
   "source": [
    "#look at missing values\n",
    "originaldf.loc[originaldf[\"PostTypeId\"] == 2].isna().sum()"
   ]
  },
  {
   "cell_type": "code",
   "execution_count": 9,
   "id": "a259fe5c",
   "metadata": {},
   "outputs": [],
   "source": [
    "#html tags in body columns with blank space\n",
    "originaldf.Body = originaldf.Body.str.replace('<[^>]*>','', regex=True)"
   ]
  },
  {
   "cell_type": "code",
   "execution_count": 10,
   "id": "38c0e70b",
   "metadata": {},
   "outputs": [],
   "source": [
    "# Need a difference between answer posting time and question posting time\n",
    "\n",
    "from datetime import datetime \n",
    "\n",
    "datestrings = originaldf.CreationDate.str.slice_replace(start=-4)\n",
    "\n",
    "dateObjects = []\n",
    "for i in range(len(datestrings)):\n",
    "    dateObjects.append(datetime.strptime(datestrings[i],'%Y-%m-%dT%H:%M:%S'))\n",
    "    \n",
    "originaldf.CreationDate = dateObjects"
   ]
  },
  {
   "cell_type": "code",
   "execution_count": 11,
   "id": "447489c9",
   "metadata": {},
   "outputs": [],
   "source": [
    "# want the question posting time for each answer\n",
    "# so merge each answer with its question along with the body and creation date of the question\n",
    "df = pd.merge(left=originaldf.loc[originaldf['PostTypeId'] == 2,\n",
    "                  ['Id', 'CreationDate','Body','CommentCount','ParentId']],\n",
    "                  right=originaldf[['Id','AcceptedAnswerId', 'Body',\n",
    "                                    'CreationDate','AnswerCount']],  \n",
    "                  left_on=\"ParentId\", right_on=\"Id\", how=\"left\", \n",
    "                  suffixes=(\"_answer\", \"_question\"))"
   ]
  },
  {
   "cell_type": "code",
   "execution_count": 12,
   "id": "55415b02",
   "metadata": {},
   "outputs": [],
   "source": [
    "#Assume that if there are no AcceptedAnswerId for the question then it is not a good example\n",
    "df.dropna(subset=[\"AcceptedAnswerId\"],inplace=True)\n",
    "df.reset_index(drop=True, inplace=True)"
   ]
  },
  {
   "cell_type": "code",
   "execution_count": 13,
   "id": "3a0012b9",
   "metadata": {},
   "outputs": [],
   "source": [
    "# if the id of the accepted answer for a question is the row's answer id \n",
    "# then that row is accepted answer\n",
    "\n",
    "df['is_accepted_answer'] = df.Id_answer == df.AcceptedAnswerId"
   ]
  },
  {
   "cell_type": "code",
   "execution_count": 14,
   "id": "98956c9e",
   "metadata": {},
   "outputs": [
    {
     "data": {
      "text/plain": [
       "True"
      ]
     },
     "execution_count": 14,
     "metadata": {},
     "output_type": "execute_result"
    }
   ],
   "source": [
    "#the count of unique accepted answers should be equal to the sum of \"is_accepted_answer\"\n",
    "len(df.AcceptedAnswerId.unique()) == df.is_accepted_answer.sum()"
   ]
  },
  {
   "cell_type": "code",
   "execution_count": 15,
   "id": "35ace2bb",
   "metadata": {},
   "outputs": [
    {
     "data": {
      "text/plain": [
       "True"
      ]
     },
     "execution_count": 15,
     "metadata": {},
     "output_type": "execute_result"
    }
   ],
   "source": [
    "#the count of unique questions should also be equal to the sum of \"is_accepted_answer\"\n",
    "len(df.Id_question.unique()) == df.is_accepted_answer.sum()"
   ]
  },
  {
   "cell_type": "code",
   "execution_count": 16,
   "id": "64b2d7f8",
   "metadata": {},
   "outputs": [],
   "source": [
    "# calculate the difference between when the question and answers were posted\n",
    "df['time_difference'] = df.CreationDate_answer - df.CreationDate_question\n",
    "\n",
    "time_difference_in_seconds = []\n",
    "\n",
    "for i in range(len(df.time_difference)):\n",
    "        time_difference_in_seconds.append(df.time_difference[i].total_seconds())\n",
    "        \n",
    "df.time_difference = time_difference_in_seconds"
   ]
  },
  {
   "cell_type": "code",
   "execution_count": 17,
   "id": "d28ee7e9",
   "metadata": {},
   "outputs": [
    {
     "data": {
      "text/html": [
       "<div>\n",
       "<style scoped>\n",
       "    .dataframe tbody tr th:only-of-type {\n",
       "        vertical-align: middle;\n",
       "    }\n",
       "\n",
       "    .dataframe tbody tr th {\n",
       "        vertical-align: top;\n",
       "    }\n",
       "\n",
       "    .dataframe thead th {\n",
       "        text-align: right;\n",
       "    }\n",
       "</style>\n",
       "<table border=\"1\" class=\"dataframe\">\n",
       "  <thead>\n",
       "    <tr style=\"text-align: right;\">\n",
       "      <th></th>\n",
       "      <th>Id_answer</th>\n",
       "      <th>CommentCount</th>\n",
       "      <th>ParentId</th>\n",
       "      <th>Id_question</th>\n",
       "      <th>AcceptedAnswerId</th>\n",
       "      <th>AnswerCount</th>\n",
       "      <th>time_difference</th>\n",
       "    </tr>\n",
       "  </thead>\n",
       "  <tbody>\n",
       "    <tr>\n",
       "      <th>count</th>\n",
       "      <td>46189.000000</td>\n",
       "      <td>46189.000000</td>\n",
       "      <td>46189.000000</td>\n",
       "      <td>46189.000000</td>\n",
       "      <td>46189.000000</td>\n",
       "      <td>46189.000000</td>\n",
       "      <td>4.618900e+04</td>\n",
       "    </tr>\n",
       "    <tr>\n",
       "      <th>mean</th>\n",
       "      <td>105381.628808</td>\n",
       "      <td>1.630821</td>\n",
       "      <td>97270.021196</td>\n",
       "      <td>97270.021196</td>\n",
       "      <td>98457.055619</td>\n",
       "      <td>3.235164</td>\n",
       "      <td>1.289551e+07</td>\n",
       "    </tr>\n",
       "    <tr>\n",
       "      <th>std</th>\n",
       "      <td>71227.945336</td>\n",
       "      <td>2.304975</td>\n",
       "      <td>72819.688767</td>\n",
       "      <td>72819.688767</td>\n",
       "      <td>72947.542389</td>\n",
       "      <td>2.659267</td>\n",
       "      <td>4.103870e+07</td>\n",
       "    </tr>\n",
       "    <tr>\n",
       "      <th>min</th>\n",
       "      <td>9.000000</td>\n",
       "      <td>0.000000</td>\n",
       "      <td>1.000000</td>\n",
       "      <td>1.000000</td>\n",
       "      <td>9.000000</td>\n",
       "      <td>1.000000</td>\n",
       "      <td>0.000000e+00</td>\n",
       "    </tr>\n",
       "    <tr>\n",
       "      <th>25%</th>\n",
       "      <td>38520.000000</td>\n",
       "      <td>0.000000</td>\n",
       "      <td>26454.000000</td>\n",
       "      <td>26454.000000</td>\n",
       "      <td>27136.000000</td>\n",
       "      <td>2.000000</td>\n",
       "      <td>3.382000e+03</td>\n",
       "    </tr>\n",
       "    <tr>\n",
       "      <th>50%</th>\n",
       "      <td>102446.000000</td>\n",
       "      <td>1.000000</td>\n",
       "      <td>89652.000000</td>\n",
       "      <td>89652.000000</td>\n",
       "      <td>91110.000000</td>\n",
       "      <td>2.000000</td>\n",
       "      <td>1.651600e+04</td>\n",
       "    </tr>\n",
       "    <tr>\n",
       "      <th>75%</th>\n",
       "      <td>169178.000000</td>\n",
       "      <td>2.000000</td>\n",
       "      <td>162114.000000</td>\n",
       "      <td>162114.000000</td>\n",
       "      <td>164504.000000</td>\n",
       "      <td>4.000000</td>\n",
       "      <td>1.013340e+05</td>\n",
       "    </tr>\n",
       "    <tr>\n",
       "      <th>max</th>\n",
       "      <td>234205.000000</td>\n",
       "      <td>45.000000</td>\n",
       "      <td>234187.000000</td>\n",
       "      <td>234187.000000</td>\n",
       "      <td>234205.000000</td>\n",
       "      <td>28.000000</td>\n",
       "      <td>3.504101e+08</td>\n",
       "    </tr>\n",
       "  </tbody>\n",
       "</table>\n",
       "</div>"
      ],
      "text/plain": [
       "           Id_answer  CommentCount       ParentId    Id_question  \\\n",
       "count   46189.000000  46189.000000   46189.000000   46189.000000   \n",
       "mean   105381.628808      1.630821   97270.021196   97270.021196   \n",
       "std     71227.945336      2.304975   72819.688767   72819.688767   \n",
       "min         9.000000      0.000000       1.000000       1.000000   \n",
       "25%     38520.000000      0.000000   26454.000000   26454.000000   \n",
       "50%    102446.000000      1.000000   89652.000000   89652.000000   \n",
       "75%    169178.000000      2.000000  162114.000000  162114.000000   \n",
       "max    234205.000000     45.000000  234187.000000  234187.000000   \n",
       "\n",
       "       AcceptedAnswerId   AnswerCount  time_difference  \n",
       "count      46189.000000  46189.000000     4.618900e+04  \n",
       "mean       98457.055619      3.235164     1.289551e+07  \n",
       "std        72947.542389      2.659267     4.103870e+07  \n",
       "min            9.000000      1.000000     0.000000e+00  \n",
       "25%        27136.000000      2.000000     3.382000e+03  \n",
       "50%        91110.000000      2.000000     1.651600e+04  \n",
       "75%       164504.000000      4.000000     1.013340e+05  \n",
       "max       234205.000000     28.000000     3.504101e+08  "
      ]
     },
     "execution_count": 17,
     "metadata": {},
     "output_type": "execute_result"
    }
   ],
   "source": [
    "df.describe()"
   ]
  },
  {
   "cell_type": "code",
   "execution_count": 18,
   "id": "7a55d2fa",
   "metadata": {
    "scrolled": true
   },
   "outputs": [
    {
     "data": {
      "text/plain": [
       "22593"
      ]
     },
     "execution_count": 18,
     "metadata": {},
     "output_type": "execute_result"
    }
   ],
   "source": [
    "len(df.Id_question.unique())"
   ]
  },
  {
   "cell_type": "markdown",
   "id": "192b7322",
   "metadata": {},
   "source": [
    "So it looks like only ~22000 of the ~64000 questions have chosen answers. As there won't be reliable examples of chosen answers for the remaining 42000 we have removed them from the training set. (above)"
   ]
  },
  {
   "cell_type": "code",
   "execution_count": 19,
   "id": "5ba801c1",
   "metadata": {},
   "outputs": [
    {
     "data": {
      "text/plain": [
       "(46189, 12)"
      ]
     },
     "execution_count": 19,
     "metadata": {},
     "output_type": "execute_result"
    }
   ],
   "source": [
    "df.shape"
   ]
  },
  {
   "cell_type": "code",
   "execution_count": 20,
   "id": "55adae8e",
   "metadata": {},
   "outputs": [],
   "source": [
    "df.drop(['ParentId'], axis=1, inplace=True)"
   ]
  },
  {
   "cell_type": "code",
   "execution_count": 21,
   "id": "a3e96e6d",
   "metadata": {},
   "outputs": [],
   "source": [
    "answer_lengths = []\n",
    "for body in df.Body_answer:\n",
    "    answer_lengths.append(len(body.split()))\n",
    "df['answer_length'] = answer_lengths"
   ]
  },
  {
   "cell_type": "code",
   "execution_count": 22,
   "id": "7ecea96a",
   "metadata": {
    "scrolled": true
   },
   "outputs": [
    {
     "data": {
      "text/html": [
       "<div>\n",
       "<style scoped>\n",
       "    .dataframe tbody tr th:only-of-type {\n",
       "        vertical-align: middle;\n",
       "    }\n",
       "\n",
       "    .dataframe tbody tr th {\n",
       "        vertical-align: top;\n",
       "    }\n",
       "\n",
       "    .dataframe thead th {\n",
       "        text-align: right;\n",
       "    }\n",
       "</style>\n",
       "<table border=\"1\" class=\"dataframe\">\n",
       "  <thead>\n",
       "    <tr style=\"text-align: right;\">\n",
       "      <th></th>\n",
       "      <th>Id_answer</th>\n",
       "      <th>CreationDate_answer</th>\n",
       "      <th>Body_answer</th>\n",
       "      <th>CommentCount</th>\n",
       "      <th>Id_question</th>\n",
       "      <th>AcceptedAnswerId</th>\n",
       "      <th>Body_question</th>\n",
       "      <th>CreationDate_question</th>\n",
       "      <th>AnswerCount</th>\n",
       "      <th>is_accepted_answer</th>\n",
       "      <th>time_difference</th>\n",
       "      <th>answer_length</th>\n",
       "    </tr>\n",
       "  </thead>\n",
       "  <tbody>\n",
       "    <tr>\n",
       "      <th>0</th>\n",
       "      <td>9</td>\n",
       "      <td>2010-07-21 19:19:02</td>\n",
       "      <td>I've found that it works OK, but it's more dif...</td>\n",
       "      <td>1</td>\n",
       "      <td>3</td>\n",
       "      <td>9.0</td>\n",
       "      <td>I'm going to be doing some drywalling shortly ...</td>\n",
       "      <td>2010-07-21 19:16:23</td>\n",
       "      <td>16.0</td>\n",
       "      <td>True</td>\n",
       "      <td>159.0</td>\n",
       "      <td>48</td>\n",
       "    </tr>\n",
       "    <tr>\n",
       "      <th>1</th>\n",
       "      <td>12</td>\n",
       "      <td>2010-07-21 19:20:53</td>\n",
       "      <td>I have used it for patching areas, but not for...</td>\n",
       "      <td>0</td>\n",
       "      <td>3</td>\n",
       "      <td>9.0</td>\n",
       "      <td>I'm going to be doing some drywalling shortly ...</td>\n",
       "      <td>2010-07-21 19:16:23</td>\n",
       "      <td>16.0</td>\n",
       "      <td>False</td>\n",
       "      <td>270.0</td>\n",
       "      <td>37</td>\n",
       "    </tr>\n",
       "    <tr>\n",
       "      <th>2</th>\n",
       "      <td>13</td>\n",
       "      <td>2010-07-21 19:21:15</td>\n",
       "      <td>I just caulked my shower last night. I used GE...</td>\n",
       "      <td>3</td>\n",
       "      <td>2</td>\n",
       "      <td>13.0</td>\n",
       "      <td>I would like to recaulk between the bathtub an...</td>\n",
       "      <td>2010-07-21 19:15:17</td>\n",
       "      <td>3.0</td>\n",
       "      <td>True</td>\n",
       "      <td>358.0</td>\n",
       "      <td>81</td>\n",
       "    </tr>\n",
       "    <tr>\n",
       "      <th>3</th>\n",
       "      <td>14</td>\n",
       "      <td>2010-07-21 19:21:41</td>\n",
       "      <td>It's just an ornamental wall it sounds like, s...</td>\n",
       "      <td>3</td>\n",
       "      <td>1</td>\n",
       "      <td>38.0</td>\n",
       "      <td>I'm looking to finish my basement and simply w...</td>\n",
       "      <td>2010-07-21 19:14:06</td>\n",
       "      <td>2.0</td>\n",
       "      <td>False</td>\n",
       "      <td>455.0</td>\n",
       "      <td>56</td>\n",
       "    </tr>\n",
       "    <tr>\n",
       "      <th>4</th>\n",
       "      <td>15</td>\n",
       "      <td>2010-07-21 19:22:00</td>\n",
       "      <td>I just bought a permanent silicone product by ...</td>\n",
       "      <td>3</td>\n",
       "      <td>2</td>\n",
       "      <td>13.0</td>\n",
       "      <td>I would like to recaulk between the bathtub an...</td>\n",
       "      <td>2010-07-21 19:15:17</td>\n",
       "      <td>3.0</td>\n",
       "      <td>False</td>\n",
       "      <td>403.0</td>\n",
       "      <td>30</td>\n",
       "    </tr>\n",
       "  </tbody>\n",
       "</table>\n",
       "</div>"
      ],
      "text/plain": [
       "   Id_answer CreationDate_answer  \\\n",
       "0          9 2010-07-21 19:19:02   \n",
       "1         12 2010-07-21 19:20:53   \n",
       "2         13 2010-07-21 19:21:15   \n",
       "3         14 2010-07-21 19:21:41   \n",
       "4         15 2010-07-21 19:22:00   \n",
       "\n",
       "                                         Body_answer  CommentCount  \\\n",
       "0  I've found that it works OK, but it's more dif...             1   \n",
       "1  I have used it for patching areas, but not for...             0   \n",
       "2  I just caulked my shower last night. I used GE...             3   \n",
       "3  It's just an ornamental wall it sounds like, s...             3   \n",
       "4  I just bought a permanent silicone product by ...             3   \n",
       "\n",
       "   Id_question  AcceptedAnswerId  \\\n",
       "0            3               9.0   \n",
       "1            3               9.0   \n",
       "2            2              13.0   \n",
       "3            1              38.0   \n",
       "4            2              13.0   \n",
       "\n",
       "                                       Body_question CreationDate_question  \\\n",
       "0  I'm going to be doing some drywalling shortly ...   2010-07-21 19:16:23   \n",
       "1  I'm going to be doing some drywalling shortly ...   2010-07-21 19:16:23   \n",
       "2  I would like to recaulk between the bathtub an...   2010-07-21 19:15:17   \n",
       "3  I'm looking to finish my basement and simply w...   2010-07-21 19:14:06   \n",
       "4  I would like to recaulk between the bathtub an...   2010-07-21 19:15:17   \n",
       "\n",
       "   AnswerCount  is_accepted_answer  time_difference  answer_length  \n",
       "0         16.0                True            159.0             48  \n",
       "1         16.0               False            270.0             37  \n",
       "2          3.0                True            358.0             81  \n",
       "3          2.0               False            455.0             56  \n",
       "4          3.0               False            403.0             30  "
      ]
     },
     "execution_count": 22,
     "metadata": {},
     "output_type": "execute_result"
    }
   ],
   "source": [
    "df.head()"
   ]
  },
  {
   "cell_type": "markdown",
   "id": "7ece2262",
   "metadata": {},
   "source": [
    "## Normalization of features by thread"
   ]
  },
  {
   "cell_type": "code",
   "execution_count": 23,
   "id": "82c0e028",
   "metadata": {},
   "outputs": [
    {
     "data": {
      "text/plain": [
       "array([<AxesSubplot:title={'center':'False'}>,\n",
       "       <AxesSubplot:title={'center':'True'}>], dtype=object)"
      ]
     },
     "execution_count": 23,
     "metadata": {},
     "output_type": "execute_result"
    },
    {
     "data": {
      "image/png": "[encoded data removed]",
      "text/plain": [
       "<Figure size 432x288 with 2 Axes>"
      ]
     },
     "metadata": {
      "needs_background": "light"
     },
     "output_type": "display_data"
    }
   ],
   "source": [
    "df['time_difference'].hist(by=df.is_accepted_answer)"
   ]
  },
  {
   "cell_type": "markdown",
   "id": "c261b535",
   "metadata": {},
   "source": [
    "Due to the left skewness of the data we could apply a log or a root to scale it better. Somehow a few of the answers were posted in the same second as the question, so a log will not work, however an even powered root can work here."
   ]
  },
  {
   "cell_type": "code",
   "execution_count": 24,
   "id": "ac7c49cb",
   "metadata": {},
   "outputs": [
    {
     "data": {
      "text/plain": [
       "<AxesSubplot:>"
      ]
     },
     "execution_count": 24,
     "metadata": {},
     "output_type": "execute_result"
    },
    {
     "data": {
      "image/png": "[encoded data removed]",
      "text/plain": [
       "<Figure size 432x288 with 1 Axes>"
      ]
     },
     "metadata": {
      "needs_background": "light"
     },
     "output_type": "display_data"
    }
   ],
   "source": [
    "(df['time_difference']**(1/6)).hist()"
   ]
  },
  {
   "cell_type": "code",
   "execution_count": 25,
   "id": "b6be70b7",
   "metadata": {},
   "outputs": [
    {
     "data": {
      "text/plain": [
       "<AxesSubplot:>"
      ]
     },
     "execution_count": 25,
     "metadata": {},
     "output_type": "execute_result"
    },
    {
     "data": {
      "image/png": "[encoded data removed]",
      "text/plain": [
       "<Figure size 432x288 with 1 Axes>"
      ]
     },
     "metadata": {
      "needs_background": "light"
     },
     "output_type": "display_data"
    }
   ],
   "source": [
    "(df.loc[df.is_accepted_answer == 1]['time_difference']**(1/6)).hist()"
   ]
  },
  {
   "cell_type": "code",
   "execution_count": 26,
   "id": "749c819b",
   "metadata": {
    "scrolled": true
   },
   "outputs": [
    {
     "data": {
      "text/plain": [
       "<AxesSubplot:>"
      ]
     },
     "execution_count": 26,
     "metadata": {},
     "output_type": "execute_result"
    },
    {
     "data": {
      "image/png": "[encoded data removed]",
      "text/plain": [
       "<Figure size 432x288 with 1 Axes>"
      ]
     },
     "metadata": {
      "needs_background": "light"
     },
     "output_type": "display_data"
    }
   ],
   "source": [
    "(df.loc[df.is_accepted_answer == 0]['time_difference']**(1/6)).hist()"
   ]
  },
  {
   "cell_type": "code",
   "execution_count": 27,
   "id": "464b496b",
   "metadata": {},
   "outputs": [
    {
     "data": {
      "text/html": [
       "<div>\n",
       "<style scoped>\n",
       "    .dataframe tbody tr th:only-of-type {\n",
       "        vertical-align: middle;\n",
       "    }\n",
       "\n",
       "    .dataframe tbody tr th {\n",
       "        vertical-align: top;\n",
       "    }\n",
       "\n",
       "    .dataframe thead th {\n",
       "        text-align: right;\n",
       "    }\n",
       "</style>\n",
       "<table border=\"1\" class=\"dataframe\">\n",
       "  <thead>\n",
       "    <tr style=\"text-align: right;\">\n",
       "      <th></th>\n",
       "      <th>Id_answer</th>\n",
       "      <th>CreationDate_answer</th>\n",
       "      <th>Body_answer</th>\n",
       "      <th>CommentCount</th>\n",
       "      <th>Id_question</th>\n",
       "      <th>AcceptedAnswerId</th>\n",
       "      <th>Body_question</th>\n",
       "      <th>CreationDate_question</th>\n",
       "      <th>AnswerCount</th>\n",
       "      <th>is_accepted_answer</th>\n",
       "      <th>time_difference</th>\n",
       "      <th>answer_length</th>\n",
       "    </tr>\n",
       "  </thead>\n",
       "  <tbody>\n",
       "    <tr>\n",
       "      <th>0</th>\n",
       "      <td>9</td>\n",
       "      <td>2010-07-21 19:19:02</td>\n",
       "      <td>I've found that it works OK, but it's more dif...</td>\n",
       "      <td>1</td>\n",
       "      <td>3</td>\n",
       "      <td>9.0</td>\n",
       "      <td>I'm going to be doing some drywalling shortly ...</td>\n",
       "      <td>2010-07-21 19:16:23</td>\n",
       "      <td>16.0</td>\n",
       "      <td>True</td>\n",
       "      <td>159.0</td>\n",
       "      <td>48</td>\n",
       "    </tr>\n",
       "    <tr>\n",
       "      <th>1</th>\n",
       "      <td>12</td>\n",
       "      <td>2010-07-21 19:20:53</td>\n",
       "      <td>I have used it for patching areas, but not for...</td>\n",
       "      <td>0</td>\n",
       "      <td>3</td>\n",
       "      <td>9.0</td>\n",
       "      <td>I'm going to be doing some drywalling shortly ...</td>\n",
       "      <td>2010-07-21 19:16:23</td>\n",
       "      <td>16.0</td>\n",
       "      <td>False</td>\n",
       "      <td>270.0</td>\n",
       "      <td>37</td>\n",
       "    </tr>\n",
       "    <tr>\n",
       "      <th>2</th>\n",
       "      <td>13</td>\n",
       "      <td>2010-07-21 19:21:15</td>\n",
       "      <td>I just caulked my shower last night. I used GE...</td>\n",
       "      <td>3</td>\n",
       "      <td>2</td>\n",
       "      <td>13.0</td>\n",
       "      <td>I would like to recaulk between the bathtub an...</td>\n",
       "      <td>2010-07-21 19:15:17</td>\n",
       "      <td>3.0</td>\n",
       "      <td>True</td>\n",
       "      <td>358.0</td>\n",
       "      <td>81</td>\n",
       "    </tr>\n",
       "    <tr>\n",
       "      <th>3</th>\n",
       "      <td>14</td>\n",
       "      <td>2010-07-21 19:21:41</td>\n",
       "      <td>It's just an ornamental wall it sounds like, s...</td>\n",
       "      <td>3</td>\n",
       "      <td>1</td>\n",
       "      <td>38.0</td>\n",
       "      <td>I'm looking to finish my basement and simply w...</td>\n",
       "      <td>2010-07-21 19:14:06</td>\n",
       "      <td>2.0</td>\n",
       "      <td>False</td>\n",
       "      <td>455.0</td>\n",
       "      <td>56</td>\n",
       "    </tr>\n",
       "    <tr>\n",
       "      <th>4</th>\n",
       "      <td>15</td>\n",
       "      <td>2010-07-21 19:22:00</td>\n",
       "      <td>I just bought a permanent silicone product by ...</td>\n",
       "      <td>3</td>\n",
       "      <td>2</td>\n",
       "      <td>13.0</td>\n",
       "      <td>I would like to recaulk between the bathtub an...</td>\n",
       "      <td>2010-07-21 19:15:17</td>\n",
       "      <td>3.0</td>\n",
       "      <td>False</td>\n",
       "      <td>403.0</td>\n",
       "      <td>30</td>\n",
       "    </tr>\n",
       "  </tbody>\n",
       "</table>\n",
       "</div>"
      ],
      "text/plain": [
       "   Id_answer CreationDate_answer  \\\n",
       "0          9 2010-07-21 19:19:02   \n",
       "1         12 2010-07-21 19:20:53   \n",
       "2         13 2010-07-21 19:21:15   \n",
       "3         14 2010-07-21 19:21:41   \n",
       "4         15 2010-07-21 19:22:00   \n",
       "\n",
       "                                         Body_answer  CommentCount  \\\n",
       "0  I've found that it works OK, but it's more dif...             1   \n",
       "1  I have used it for patching areas, but not for...             0   \n",
       "2  I just caulked my shower last night. I used GE...             3   \n",
       "3  It's just an ornamental wall it sounds like, s...             3   \n",
       "4  I just bought a permanent silicone product by ...             3   \n",
       "\n",
       "   Id_question  AcceptedAnswerId  \\\n",
       "0            3               9.0   \n",
       "1            3               9.0   \n",
       "2            2              13.0   \n",
       "3            1              38.0   \n",
       "4            2              13.0   \n",
       "\n",
       "                                       Body_question CreationDate_question  \\\n",
       "0  I'm going to be doing some drywalling shortly ...   2010-07-21 19:16:23   \n",
       "1  I'm going to be doing some drywalling shortly ...   2010-07-21 19:16:23   \n",
       "2  I would like to recaulk between the bathtub an...   2010-07-21 19:15:17   \n",
       "3  I'm looking to finish my basement and simply w...   2010-07-21 19:14:06   \n",
       "4  I would like to recaulk between the bathtub an...   2010-07-21 19:15:17   \n",
       "\n",
       "   AnswerCount  is_accepted_answer  time_difference  answer_length  \n",
       "0         16.0                True            159.0             48  \n",
       "1         16.0               False            270.0             37  \n",
       "2          3.0                True            358.0             81  \n",
       "3          2.0               False            455.0             56  \n",
       "4          3.0               False            403.0             30  "
      ]
     },
     "execution_count": 27,
     "metadata": {},
     "output_type": "execute_result"
    }
   ],
   "source": [
    "df.head()"
   ]
  },
  {
   "cell_type": "code",
   "execution_count": 28,
   "id": "7fbc1dc0",
   "metadata": {},
   "outputs": [],
   "source": [
    "# it looks like this will do not too badly for scaling.\n",
    "#we can apply a by thread normalization now.\n",
    "#write a function to do a maxmin scaling by thread\n",
    "def maxminByThread(df,column_name):\n",
    "    grouped_df = df.groupby(['Id_question'])[column_name]\n",
    "    max_df = grouped_df.max().to_frame(name=column_name + '_max')\n",
    "    min_df = grouped_df.min().to_frame(name=column_name + '_min')\n",
    "#     max_series = grouped_df.max()\n",
    "#     min_series = grouped_df.min()\n",
    "    diff_df = pd.merge(left=max_df,right=min_df, on=\"Id_question\")\n",
    "    diff_df[column_name + '_difference'] = max_df[column_name + '_max'] - min_df[column_name + '_min']\n",
    "    \n",
    "    df = pd.merge(left=df, right=diff_df, on=\"Id_question\", how=\"left\")\n",
    "    minmax = (df[column_name] - df[column_name + '_min']) / df[column_name + '_difference']\n",
    "    minmax[minmax.isna()] = 0\n",
    "#     diff = max_series - min_series\n",
    "    # subtract the min from the root_time_difference and divide by difference between\n",
    "    # max and min. \n",
    "#     maxmin_scaled = (df[column_name] - min_series) / diff\n",
    "#     maxmin_scaled\n",
    "    return minmax"
   ]
  },
  {
   "cell_type": "code",
   "execution_count": 29,
   "id": "54e3985e",
   "metadata": {},
   "outputs": [],
   "source": [
    "#first calculate the max grouped by thread (question_id)\n",
    "df['root_time_difference'] = df.time_difference**(1/6)"
   ]
  },
  {
   "cell_type": "code",
   "execution_count": 30,
   "id": "d287bcdb",
   "metadata": {},
   "outputs": [
    {
     "data": {
      "text/plain": [
       "0        2.327553\n",
       "1        2.542303\n",
       "2        2.664693\n",
       "3        2.773332\n",
       "4        2.717800\n",
       "           ...   \n",
       "46184    3.854009\n",
       "46185    6.603523\n",
       "46186    4.637790\n",
       "46187    6.512638\n",
       "46188    5.182244\n",
       "Name: root_time_difference, Length: 46189, dtype: float64"
      ]
     },
     "execution_count": 30,
     "metadata": {},
     "output_type": "execute_result"
    }
   ],
   "source": [
    "df['root_time_difference']"
   ]
  },
  {
   "cell_type": "code",
   "execution_count": 31,
   "id": "470bacd8",
   "metadata": {},
   "outputs": [
    {
     "data": {
      "text/plain": [
       "0        0.000000\n",
       "1        0.009630\n",
       "2        0.000000\n",
       "3        0.000000\n",
       "4        0.002510\n",
       "           ...   \n",
       "46184    0.000000\n",
       "46185    0.000000\n",
       "46186    0.590092\n",
       "46187    1.000000\n",
       "46188    1.000000\n",
       "Length: 46189, dtype: float64"
      ]
     },
     "execution_count": 31,
     "metadata": {},
     "output_type": "execute_result"
    }
   ],
   "source": [
    "maxminByThread(df,'root_time_difference')"
   ]
  },
  {
   "cell_type": "code",
   "execution_count": 32,
   "id": "c39666b3",
   "metadata": {},
   "outputs": [],
   "source": [
    "feature_names = []\n",
    "for each in ['CommentCount', 'root_time_difference', 'answer_length']:\n",
    "    feature_names.append('minmax_scaled_'+ each)\n",
    "    df['minmax_scaled_' + each] = maxminByThread(df,each)\n"
   ]
  },
  {
   "cell_type": "code",
   "execution_count": 33,
   "id": "abe76b99",
   "metadata": {},
   "outputs": [
    {
     "data": {
      "text/html": [
       "<div>\n",
       "<style scoped>\n",
       "    .dataframe tbody tr th:only-of-type {\n",
       "        vertical-align: middle;\n",
       "    }\n",
       "\n",
       "    .dataframe tbody tr th {\n",
       "        vertical-align: top;\n",
       "    }\n",
       "\n",
       "    .dataframe thead th {\n",
       "        text-align: right;\n",
       "    }\n",
       "</style>\n",
       "<table border=\"1\" class=\"dataframe\">\n",
       "  <thead>\n",
       "    <tr style=\"text-align: right;\">\n",
       "      <th></th>\n",
       "      <th>Id_answer</th>\n",
       "      <th>CreationDate_answer</th>\n",
       "      <th>Body_answer</th>\n",
       "      <th>CommentCount</th>\n",
       "      <th>Id_question</th>\n",
       "      <th>AcceptedAnswerId</th>\n",
       "      <th>Body_question</th>\n",
       "      <th>CreationDate_question</th>\n",
       "      <th>AnswerCount</th>\n",
       "      <th>is_accepted_answer</th>\n",
       "      <th>time_difference</th>\n",
       "      <th>answer_length</th>\n",
       "      <th>root_time_difference</th>\n",
       "      <th>minmax_scaled_CommentCount</th>\n",
       "      <th>minmax_scaled_root_time_difference</th>\n",
       "      <th>minmax_scaled_answer_length</th>\n",
       "    </tr>\n",
       "  </thead>\n",
       "  <tbody>\n",
       "    <tr>\n",
       "      <th>0</th>\n",
       "      <td>9</td>\n",
       "      <td>2010-07-21 19:19:02</td>\n",
       "      <td>I've found that it works OK, but it's more dif...</td>\n",
       "      <td>1</td>\n",
       "      <td>3</td>\n",
       "      <td>9.0</td>\n",
       "      <td>I'm going to be doing some drywalling shortly ...</td>\n",
       "      <td>2010-07-21 19:16:23</td>\n",
       "      <td>16.0</td>\n",
       "      <td>True</td>\n",
       "      <td>159.0</td>\n",
       "      <td>48</td>\n",
       "      <td>2.327553</td>\n",
       "      <td>0.333333</td>\n",
       "      <td>0.00000</td>\n",
       "      <td>0.122807</td>\n",
       "    </tr>\n",
       "    <tr>\n",
       "      <th>1</th>\n",
       "      <td>12</td>\n",
       "      <td>2010-07-21 19:20:53</td>\n",
       "      <td>I have used it for patching areas, but not for...</td>\n",
       "      <td>0</td>\n",
       "      <td>3</td>\n",
       "      <td>9.0</td>\n",
       "      <td>I'm going to be doing some drywalling shortly ...</td>\n",
       "      <td>2010-07-21 19:16:23</td>\n",
       "      <td>16.0</td>\n",
       "      <td>False</td>\n",
       "      <td>270.0</td>\n",
       "      <td>37</td>\n",
       "      <td>2.542303</td>\n",
       "      <td>0.000000</td>\n",
       "      <td>0.00963</td>\n",
       "      <td>0.084211</td>\n",
       "    </tr>\n",
       "    <tr>\n",
       "      <th>2</th>\n",
       "      <td>13</td>\n",
       "      <td>2010-07-21 19:21:15</td>\n",
       "      <td>I just caulked my shower last night. I used GE...</td>\n",
       "      <td>3</td>\n",
       "      <td>2</td>\n",
       "      <td>13.0</td>\n",
       "      <td>I would like to recaulk between the bathtub an...</td>\n",
       "      <td>2010-07-21 19:15:17</td>\n",
       "      <td>3.0</td>\n",
       "      <td>True</td>\n",
       "      <td>358.0</td>\n",
       "      <td>81</td>\n",
       "      <td>2.664693</td>\n",
       "      <td>0.000000</td>\n",
       "      <td>0.00000</td>\n",
       "      <td>0.170000</td>\n",
       "    </tr>\n",
       "    <tr>\n",
       "      <th>3</th>\n",
       "      <td>14</td>\n",
       "      <td>2010-07-21 19:21:41</td>\n",
       "      <td>It's just an ornamental wall it sounds like, s...</td>\n",
       "      <td>3</td>\n",
       "      <td>1</td>\n",
       "      <td>38.0</td>\n",
       "      <td>I'm looking to finish my basement and simply w...</td>\n",
       "      <td>2010-07-21 19:14:06</td>\n",
       "      <td>2.0</td>\n",
       "      <td>False</td>\n",
       "      <td>455.0</td>\n",
       "      <td>56</td>\n",
       "      <td>2.773332</td>\n",
       "      <td>0.000000</td>\n",
       "      <td>0.00000</td>\n",
       "      <td>0.000000</td>\n",
       "    </tr>\n",
       "    <tr>\n",
       "      <th>4</th>\n",
       "      <td>15</td>\n",
       "      <td>2010-07-21 19:22:00</td>\n",
       "      <td>I just bought a permanent silicone product by ...</td>\n",
       "      <td>3</td>\n",
       "      <td>2</td>\n",
       "      <td>13.0</td>\n",
       "      <td>I would like to recaulk between the bathtub an...</td>\n",
       "      <td>2010-07-21 19:15:17</td>\n",
       "      <td>3.0</td>\n",
       "      <td>False</td>\n",
       "      <td>403.0</td>\n",
       "      <td>30</td>\n",
       "      <td>2.717800</td>\n",
       "      <td>0.000000</td>\n",
       "      <td>0.00251</td>\n",
       "      <td>0.000000</td>\n",
       "    </tr>\n",
       "  </tbody>\n",
       "</table>\n",
       "</div>"
      ],
      "text/plain": [
       "   Id_answer CreationDate_answer  \\\n",
       "0          9 2010-07-21 19:19:02   \n",
       "1         12 2010-07-21 19:20:53   \n",
       "2         13 2010-07-21 19:21:15   \n",
       "3         14 2010-07-21 19:21:41   \n",
       "4         15 2010-07-21 19:22:00   \n",
       "\n",
       "                                         Body_answer  CommentCount  \\\n",
       "0  I've found that it works OK, but it's more dif...             1   \n",
       "1  I have used it for patching areas, but not for...             0   \n",
       "2  I just caulked my shower last night. I used GE...             3   \n",
       "3  It's just an ornamental wall it sounds like, s...             3   \n",
       "4  I just bought a permanent silicone product by ...             3   \n",
       "\n",
       "   Id_question  AcceptedAnswerId  \\\n",
       "0            3               9.0   \n",
       "1            3               9.0   \n",
       "2            2              13.0   \n",
       "3            1              38.0   \n",
       "4            2              13.0   \n",
       "\n",
       "                                       Body_question CreationDate_question  \\\n",
       "0  I'm going to be doing some drywalling shortly ...   2010-07-21 19:16:23   \n",
       "1  I'm going to be doing some drywalling shortly ...   2010-07-21 19:16:23   \n",
       "2  I would like to recaulk between the bathtub an...   2010-07-21 19:15:17   \n",
       "3  I'm looking to finish my basement and simply w...   2010-07-21 19:14:06   \n",
       "4  I would like to recaulk between the bathtub an...   2010-07-21 19:15:17   \n",
       "\n",
       "   AnswerCount  is_accepted_answer  time_difference  answer_length  \\\n",
       "0         16.0                True            159.0             48   \n",
       "1         16.0               False            270.0             37   \n",
       "2          3.0                True            358.0             81   \n",
       "3          2.0               False            455.0             56   \n",
       "4          3.0               False            403.0             30   \n",
       "\n",
       "   root_time_difference  minmax_scaled_CommentCount  \\\n",
       "0              2.327553                    0.333333   \n",
       "1              2.542303                    0.000000   \n",
       "2              2.664693                    0.000000   \n",
       "3              2.773332                    0.000000   \n",
       "4              2.717800                    0.000000   \n",
       "\n",
       "   minmax_scaled_root_time_difference  minmax_scaled_answer_length  \n",
       "0                             0.00000                     0.122807  \n",
       "1                             0.00963                     0.084211  \n",
       "2                             0.00000                     0.170000  \n",
       "3                             0.00000                     0.000000  \n",
       "4                             0.00251                     0.000000  "
      ]
     },
     "execution_count": 33,
     "metadata": {},
     "output_type": "execute_result"
    }
   ],
   "source": [
    "df.head()"
   ]
  },
  {
   "cell_type": "markdown",
   "id": "ae877a6f",
   "metadata": {},
   "source": [
    "# Training The Neural Network\n",
    "Now that there is a basic preprocessing of the data, we can train a classification model on it. As it stands right now there is no association between different answers that are in the same thread. Each entry in the datframe is an answer which could be classified as the chosen answer or not. This means that multiple questions could be classified by the algorithm as the chosen answer. We will see if this behaviour has a drastic effect. It seems more complicated to have the classifier choose only one answer per thread, so we will see how this more simple model performs before we move on to a more complicated data structure."
   ]
  },
  {
   "cell_type": "code",
   "execution_count": 34,
   "id": "b618b801",
   "metadata": {},
   "outputs": [],
   "source": [
    "import tensorflow as tf\n",
    "from tensorflow import keras\n",
    "from sklearn.pipeline import Pipeline\n",
    "from tensorflow.keras.wrappers.scikit_learn import KerasClassifier"
   ]
  },
  {
   "cell_type": "code",
   "execution_count": 35,
   "id": "46214547",
   "metadata": {},
   "outputs": [
    {
     "name": "stdout",
     "output_type": "stream",
     "text": [
      "2.0.0\n",
      "2.2.4-tf\n"
     ]
    }
   ],
   "source": [
    "print(tf.__version__)\n",
    "print(keras.__version__)"
   ]
  },
  {
   "cell_type": "code",
   "execution_count": 36,
   "id": "b0a5f728",
   "metadata": {},
   "outputs": [],
   "source": [
    "# do a train test split on the data\n",
    "test_size = 0.2\n",
    "train_full_size = 1-test_size\n",
    "dev_size = test_size/train_full_size\n",
    "# get the features discussed above\n",
    "necessary_to_calculate_features = df[feature_names]\n",
    "labels = df.is_accepted_answer"
   ]
  },
  {
   "cell_type": "code",
   "execution_count": 37,
   "id": "45c556b1",
   "metadata": {},
   "outputs": [],
   "source": [
    "from sklearn.model_selection import train_test_split"
   ]
  },
  {
   "cell_type": "code",
   "execution_count": 38,
   "id": "96eaff33",
   "metadata": {},
   "outputs": [],
   "source": [
    "# From: https://stackoverflow.com/questions/34842405/parameter-stratify-from-method-train-test-split-scikit-learn\n",
    "X_train_full, X_test, y_train_full, y_test = train_test_split(necessary_to_calculate_features, labels,test_size=test_size,stratify=labels,random_state=92)"
   ]
  },
  {
   "cell_type": "code",
   "execution_count": 39,
   "id": "2483b76e",
   "metadata": {},
   "outputs": [],
   "source": [
    "# also create a dev set\n",
    "X_train, X_dev, y_train, y_dev = train_test_split(X_train_full, y_train_full,test_size=dev_size,stratify=y_train_full,random_state=11)"
   ]
  },
  {
   "cell_type": "code",
   "execution_count": 40,
   "id": "06428535",
   "metadata": {},
   "outputs": [
    {
     "data": {
      "text/plain": [
       "[(27713, 3), (9238, 3), (9238, 3)]"
      ]
     },
     "execution_count": 40,
     "metadata": {},
     "output_type": "execute_result"
    }
   ],
   "source": [
    "[X_train.shape,X_dev.shape,X_test.shape]"
   ]
  },
  {
   "cell_type": "code",
   "execution_count": 41,
   "id": "44bbcb1b",
   "metadata": {},
   "outputs": [],
   "source": [
    "# model = keras.models.Sequential()\n",
    "# model.add(keras.layers.Input(shape=[3]))\n",
    "# model.add(keras.layers.Dense(8, activation=\"sigmoid\"))\n",
    "# model.add(keras.layers.Dense(8, activation=\"sigmoid\"))\n",
    "# model.add(keras.layers.Dense(1, activation=\"sigmoid\"))\n"
   ]
  },
  {
   "cell_type": "code",
   "execution_count": 50,
   "id": "2cfcc7a7",
   "metadata": {},
   "outputs": [],
   "source": [
    "def model():\n",
    "    model = keras.models.Sequential([\n",
    "        keras.layers.Input(shape=X_train.shape[1:]),\n",
    "        keras.layers.Dense(8, activation='relu'),\n",
    "        keras.layers.Dense(8, activation='relu'),\n",
    "        keras.layers.Dense(8, activation='relu'),\n",
    "        keras.layers.Dense(1, activation='sigmoid')\n",
    "    ])\n",
    "    model.compile(loss='binary_crossentropy', optimizer='sgd', metrics=['accuracy'])\n",
    "    return model"
   ]
  },
  {
   "cell_type": "code",
   "execution_count": null,
   "id": "de12b4ff",
   "metadata": {},
   "outputs": [],
   "source": [
    "#make a tunable model factory\n",
    "def build_model(n_hidden=1, n_neurons=30, learning_rate=3e-3, input_shape=[8]):\n",
    "    model = keras.models.Sequential()\n",
    "    model.add(keras.layers.InputLayer(input_shape=input_shape))\n",
    "    for layer in range(n_hidden):\n",
    "        model.add(keras.layers.Dense(n_neurons, activation=\"relu\"))\n",
    "    model.add(keras.layers.Dense(1))\n",
    "    optimizer = keras.optimizers.SGD(lr=learning_rate)\n",
    "    model.compile(loss=\"binary_crossentropy\", optimizer=optimizer)\n",
    "    return model"
   ]
  },
  {
   "cell_type": "code",
   "execution_count": 71,
   "id": "1d9c9d7c",
   "metadata": {},
   "outputs": [],
   "source": [
    "from scipy.stats import reciprocal\n",
    "a=3e-4\n",
    "b=3e-2\n",
    "r = reciprocal(3e-4, 3e-2)\n",
    "x = np.linspace(reciprocal.ppf(0.01, a, b),\n",
    "                 reciprocal.ppf(0.99, a, b), 100)"
   ]
  },
  {
   "cell_type": "code",
   "execution_count": 74,
   "id": "1c64e66f",
   "metadata": {},
   "outputs": [
    {
     "data": {
      "text/plain": [
       "[<matplotlib.lines.Line2D at 0x7f9e2220ed50>]"
      ]
     },
     "execution_count": 74,
     "metadata": {},
     "output_type": "execute_result"
    },
    {
     "data": {
      "image/png": "[encoded data removed]",
      "text/plain": [
       "<Figure size 432x288 with 1 Axes>"
      ]
     },
     "metadata": {
      "needs_background": "light"
     },
     "output_type": "display_data"
    }
   ],
   "source": [
    "fig, ax = plt.subplots(1, 1)\n",
    "# ax.hist(r, normed=True, histtype='stepfilled', alpha=0.2)\n",
    "ax.plot(x, r.pdf(x), 'k-', lw=2, label='frozen pdf')"
   ]
  },
  {
   "cell_type": "code",
   "execution_count": null,
   "id": "5d5f7763",
   "metadata": {},
   "outputs": [],
   "source": [
    "from scipy.stats import reciprocal\n",
    "from sklearn.model_selection import RandomizedSearchCV\n",
    "\n",
    "param_distribs = {\n",
    "    \"n_hidden\": [0, 1, 2, 3],\n",
    "    \"n_neurons\": np.arange(1, 100),\n",
    "    \"learning_rate\": reciprocal(3e-4, 3e-2), # going to be choosing a random number between these values for the learning rate\n",
    "}\n",
    "\n",
    "rnd_search_cv = RandomizedSearchCV(KerasClassifier(build_fn=build_model), param_distribs, n_iter=10, cv=3)\n",
    "rnd_search_cv.fit(X_train, y_train, epochs=100,\n",
    "                  validation_data=(X_valid, y_valid),\n",
    "                  callbacks=[keras.callbacks.EarlyStopping(patience=10)])"
   ]
  },
  {
   "cell_type": "code",
   "execution_count": 43,
   "id": "d8f1cb92",
   "metadata": {},
   "outputs": [],
   "source": [
    "# pipeline = Pipeline(steps=[('neuralnet', \n",
    "#                             KerasClassifier(build_fn=model, \n",
    "#                                              epochs=40,\n",
    "#                                              validation_data=(X_dev.values, y_dev.values),\n",
    "#                                              callbacks=[early_stopping_cb]\n",
    "#                                            ))])"
   ]
  },
  {
   "cell_type": "code",
   "execution_count": 44,
   "id": "c073aaea",
   "metadata": {},
   "outputs": [],
   "source": [
    "import os\n",
    "root_logdir = os.path.join(os.curdir, \"my_logs\") #'./my_logs/' in MacOS\n",
    "\n",
    "# this function creates a time for the log # e.g., './my_logs/run_2019_06_07-15_15_22'\n",
    "def get_run_logdir():\n",
    "    import time\n",
    "    run_id = time.strftime(\"run_%Y_%m_%d-%H_%M_%S\")\n",
    "    return os.path.join(root_logdir, run_id)"
   ]
  },
  {
   "cell_type": "code",
   "execution_count": 51,
   "id": "ee78a4f9",
   "metadata": {},
   "outputs": [],
   "source": [
    "classifier = model()"
   ]
  },
  {
   "cell_type": "code",
   "execution_count": 52,
   "id": "f378dfc9",
   "metadata": {},
   "outputs": [],
   "source": [
    "#create the callback for early stopping\n",
    "early_stopping_cb = keras.callbacks.EarlyStopping(patience=4,\n",
    "                                                  restore_best_weights=True,\n",
    "                                                  monitor='accuracy')"
   ]
  },
  {
   "cell_type": "code",
   "execution_count": 53,
   "id": "bb5abeaa",
   "metadata": {},
   "outputs": [],
   "source": [
    "#create the tensorboard callback\n",
    "run_logdir = get_run_logdir()\n",
    "tensorboard_cb = keras.callbacks.TensorBoard(get_run_logdir())"
   ]
  },
  {
   "cell_type": "code",
   "execution_count": 54,
   "id": "f03db927",
   "metadata": {
    "collapsed": true
   },
   "outputs": [
    {
     "name": "stdout",
     "output_type": "stream",
     "text": [
      "Train on 27713 samples, validate on 9238 samples\n",
      "Epoch 1/40\n",
      " 1184/27713 [>.............................] - ETA: 45s - loss: 0.6922 - accuracy: 0.5954 "
     ]
    },
    {
     "name": "stderr",
     "output_type": "stream",
     "text": [
      "2021-11-16 15:55:12.376140: I tensorflow/core/profiler/lib/profiler_session.cc:184] Profiler session started.\n"
     ]
    },
    {
     "name": "stdout",
     "output_type": "stream",
     "text": [
      "27713/27713 [==============================] - 8s 301us/sample - loss: 0.6609 - accuracy: 0.6784 - val_loss: 0.6288 - val_accuracy: 0.7037\n",
      "Epoch 2/40\n",
      "27713/27713 [==============================] - 8s 274us/sample - loss: 0.6121 - accuracy: 0.6925 - val_loss: 0.5981 - val_accuracy: 0.6902\n",
      "Epoch 3/40\n",
      "27713/27713 [==============================] - 6s 234us/sample - loss: 0.5931 - accuracy: 0.6897 - val_loss: 0.5857 - val_accuracy: 0.6930\n",
      "Epoch 4/40\n",
      "27713/27713 [==============================] - 8s 292us/sample - loss: 0.5821 - accuracy: 0.6927 - val_loss: 0.5766 - val_accuracy: 0.7000\n",
      "Epoch 5/40\n",
      "27713/27713 [==============================] - 8s 284us/sample - loss: 0.5733 - accuracy: 0.7009 - val_loss: 0.5700 - val_accuracy: 0.6990\n",
      "Epoch 6/40\n",
      "27713/27713 [==============================] - 8s 291us/sample - loss: 0.5669 - accuracy: 0.7032 - val_loss: 0.5650 - val_accuracy: 0.7042\n",
      "Epoch 7/40\n",
      "27713/27713 [==============================] - 7s 250us/sample - loss: 0.5623 - accuracy: 0.7055 - val_loss: 0.5601 - val_accuracy: 0.7024\n",
      "Epoch 8/40\n",
      "27713/27713 [==============================] - 7s 249us/sample - loss: 0.5579 - accuracy: 0.7078 - val_loss: 0.5564 - val_accuracy: 0.7022\n",
      "Epoch 9/40\n",
      "27713/27713 [==============================] - 7s 256us/sample - loss: 0.5541 - accuracy: 0.7139 - val_loss: 0.5548 - val_accuracy: 0.7140\n",
      "Epoch 10/40\n",
      "27713/27713 [==============================] - 7s 263us/sample - loss: 0.5505 - accuracy: 0.7186 - val_loss: 0.5570 - val_accuracy: 0.7203\n",
      "Epoch 11/40\n",
      "27713/27713 [==============================] - 6s 230us/sample - loss: 0.5472 - accuracy: 0.7233 - val_loss: 0.5470 - val_accuracy: 0.7143\n",
      "Epoch 12/40\n",
      "27713/27713 [==============================] - 7s 244us/sample - loss: 0.5441 - accuracy: 0.7274 - val_loss: 0.5470 - val_accuracy: 0.7222\n",
      "Epoch 13/40\n",
      "27713/27713 [==============================] - 6s 210us/sample - loss: 0.5413 - accuracy: 0.7292 - val_loss: 0.5394 - val_accuracy: 0.7250\n",
      "Epoch 14/40\n",
      "27713/27713 [==============================] - 5s 184us/sample - loss: 0.5381 - accuracy: 0.7327 - val_loss: 0.5374 - val_accuracy: 0.7231\n",
      "Epoch 15/40\n",
      "27713/27713 [==============================] - 5s 186us/sample - loss: 0.5356 - accuracy: 0.7334 - val_loss: 0.5420 - val_accuracy: 0.7297\n",
      "Epoch 16/40\n",
      "27713/27713 [==============================] - 5s 177us/sample - loss: 0.5330 - accuracy: 0.7369 - val_loss: 0.5468 - val_accuracy: 0.7294\n",
      "Epoch 17/40\n",
      "27713/27713 [==============================] - 5s 189us/sample - loss: 0.5305 - accuracy: 0.7408 - val_loss: 0.5300 - val_accuracy: 0.7377\n",
      "Epoch 18/40\n",
      "27713/27713 [==============================] - 5s 194us/sample - loss: 0.5287 - accuracy: 0.7419 - val_loss: 0.5358 - val_accuracy: 0.7426\n",
      "Epoch 19/40\n",
      "27713/27713 [==============================] - 5s 188us/sample - loss: 0.5262 - accuracy: 0.7435 - val_loss: 0.5247 - val_accuracy: 0.7464\n",
      "Epoch 20/40\n",
      "27713/27713 [==============================] - 5s 189us/sample - loss: 0.5246 - accuracy: 0.7452 - val_loss: 0.5234 - val_accuracy: 0.7370\n",
      "Epoch 21/40\n",
      "27713/27713 [==============================] - 6s 201us/sample - loss: 0.5230 - accuracy: 0.7460 - val_loss: 0.5245 - val_accuracy: 0.7352\n",
      "Epoch 22/40\n",
      "27713/27713 [==============================] - 5s 189us/sample - loss: 0.5219 - accuracy: 0.7481 - val_loss: 0.5191 - val_accuracy: 0.7498\n",
      "Epoch 23/40\n",
      "27713/27713 [==============================] - 6s 199us/sample - loss: 0.5202 - accuracy: 0.7481 - val_loss: 0.5308 - val_accuracy: 0.7373\n",
      "Epoch 24/40\n",
      "27713/27713 [==============================] - 5s 189us/sample - loss: 0.5191 - accuracy: 0.7485 - val_loss: 0.5183 - val_accuracy: 0.7489\n",
      "Epoch 25/40\n",
      "27713/27713 [==============================] - 5s 198us/sample - loss: 0.5180 - accuracy: 0.7496 - val_loss: 0.5218 - val_accuracy: 0.7373\n",
      "Epoch 26/40\n",
      "27713/27713 [==============================] - 5s 184us/sample - loss: 0.5175 - accuracy: 0.7513 - val_loss: 0.5510 - val_accuracy: 0.7397\n",
      "Epoch 27/40\n",
      "27713/27713 [==============================] - 5s 196us/sample - loss: 0.5171 - accuracy: 0.7527 - val_loss: 0.5197 - val_accuracy: 0.7394\n",
      "Epoch 28/40\n",
      "27713/27713 [==============================] - 5s 192us/sample - loss: 0.5164 - accuracy: 0.7535 - val_loss: 0.5353 - val_accuracy: 0.7396\n",
      "Epoch 29/40\n",
      "27713/27713 [==============================] - 6s 206us/sample - loss: 0.5158 - accuracy: 0.7524 - val_loss: 0.7638 - val_accuracy: 0.5354\n",
      "Epoch 30/40\n",
      "27713/27713 [==============================] - 5s 196us/sample - loss: 0.5159 - accuracy: 0.7529 - val_loss: 0.5174 - val_accuracy: 0.7541\n",
      "Epoch 31/40\n",
      "27713/27713 [==============================] - 5s 191us/sample - loss: 0.5147 - accuracy: 0.7536 - val_loss: 0.5243 - val_accuracy: 0.7453\n",
      "Epoch 32/40\n",
      "27713/27713 [==============================] - 5s 195us/sample - loss: 0.5142 - accuracy: 0.7546 - val_loss: 0.5237 - val_accuracy: 0.7456\n",
      "Epoch 33/40\n",
      "27713/27713 [==============================] - 6s 202us/sample - loss: 0.5140 - accuracy: 0.7529 - val_loss: 0.5141 - val_accuracy: 0.7468\n",
      "Epoch 34/40\n",
      "27713/27713 [==============================] - 4s 140us/sample - loss: 0.5131 - accuracy: 0.7557 - val_loss: 0.5189 - val_accuracy: 0.7471\n",
      "Epoch 35/40\n",
      "27713/27713 [==============================] - 4s 136us/sample - loss: 0.5128 - accuracy: 0.7554 - val_loss: 0.5160 - val_accuracy: 0.7508\n",
      "Epoch 36/40\n",
      "27713/27713 [==============================] - 4s 139us/sample - loss: 0.5125 - accuracy: 0.7538 - val_loss: 0.5573 - val_accuracy: 0.7423\n",
      "Epoch 37/40\n",
      "27713/27713 [==============================] - 4s 139us/sample - loss: 0.5124 - accuracy: 0.7551 - val_loss: 0.5264 - val_accuracy: 0.7405\n",
      "Epoch 38/40\n",
      "27713/27713 [==============================] - 4s 138us/sample - loss: 0.5117 - accuracy: 0.7548 - val_loss: 0.5139 - val_accuracy: 0.7503\n"
     ]
    }
   ],
   "source": [
    "history = classifier.fit(X_train.values, y_train.values,epochs=40,\n",
    "                                             validation_data=(X_dev.values, y_dev.values),\n",
    "                                             callbacks=[early_stopping_cb,tensorboard_cb])"
   ]
  },
  {
   "cell_type": "code",
   "execution_count": 55,
   "id": "ab841e7b",
   "metadata": {},
   "outputs": [],
   "source": [
    "# pd.DataFrame(history.history).plot(figsize=(8, 5))\n",
    "# plt.grid(True)\n",
    "# plt.gca().set_ylim(0, 1) # set the vertical range to [0-1]\n",
    "# plt.show()"
   ]
  },
  {
   "cell_type": "code",
   "execution_count": 60,
   "id": "a1316f9d",
   "metadata": {},
   "outputs": [],
   "source": [
    "y_pred_train = classifier.predict_classes(X_train.values)\n",
    "\n",
    "from sklearn.metrics import classification_report\n",
    "\n",
    "print(classification_report(y_train, y_pred_train))"
   ]
  },
  {
   "cell_type": "code",
   "execution_count": 63,
   "id": "ed39bf08",
   "metadata": {},
   "outputs": [
    {
     "data": {
      "text/html": [
       "\n",
       "      <iframe id=\"tensorboard-frame-fc06eb609e3812db\" width=\"100%\" height=\"800\" frameborder=\"0\">\n",
       "      </iframe>\n",
       "      <script>\n",
       "        (function() {\n",
       "          const frame = document.getElementById(\"tensorboard-frame-fc06eb609e3812db\");\n",
       "          const url = new URL(\"/\", window.location);\n",
       "          url.port = 6006;\n",
       "          frame.src = url;\n",
       "        })();\n",
       "      </script>\n",
       "  "
      ],
      "text/plain": [
       "<IPython.core.display.HTML object>"
      ]
     },
     "metadata": {},
     "output_type": "display_data"
    }
   ],
   "source": [
    "%load_ext tensorboard\n",
    "%tensorboard --logdir=./my_logs --port=6006"
   ]
  },
  {
   "cell_type": "code",
   "execution_count": null,
   "id": "55a09fc9",
   "metadata": {
    "collapsed": true
   },
   "outputs": [],
   "source": []
  }
 ],
 "metadata": {
  "kernelspec": {
   "display_name": "Python 3 (ipykernel)",
   "language": "python",
   "name": "python3"
  },
  "language_info": {
   "codemirror_mode": {
    "name": "ipython",
    "version": 3
   },
   "file_extension": ".py",
   "mimetype": "text/x-python",
   "name": "python",
   "nbconvert_exporter": "python",
   "pygments_lexer": "ipython3",
   "version": "3.7.11"
  }
 },
 "nbformat": 4,
 "nbformat_minor": 5
}
